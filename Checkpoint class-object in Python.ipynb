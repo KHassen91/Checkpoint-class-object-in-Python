{
 "cells": [
  {
   "cell_type": "markdown",
   "metadata": {},
   "source": [
    "# Question 1:"
   ]
  },
  {
   "cell_type": "code",
   "execution_count": 5,
   "metadata": {},
   "outputs": [
    {
     "name": "stdout",
     "output_type": "stream",
     "text": [
      "indices are 0 3\n"
     ]
    }
   ],
   "source": [
    "def func(a):\n",
    "    arr = [10,20,10,40,50,60,70];\n",
    "    for i in range(0 , (len(arr)-1)):\n",
    "        for j in range(1 , len(arr)):\n",
    "            if arr[i] + arr[j] == a:\n",
    "                print(\"indices are\", i , j)\n",
    "                return\n",
    "                \n",
    "func(50)"
   ]
  },
  {
   "cell_type": "markdown",
   "metadata": {},
   "source": [
    "# Question 2:"
   ]
  },
  {
   "cell_type": "code",
   "execution_count": 20,
   "metadata": {},
   "outputs": [
    {
     "name": "stdout",
     "output_type": "stream",
     "text": [
      "[[], [6], [5], [5, 6], [4], [4, 6], [4, 5], [4, 5, 6]]\n"
     ]
    }
   ],
   "source": [
    "class Subsets:\n",
    "    def sub_sets(self, sset):\n",
    "        return self.subsetsRecur([], sorted(sset))\n",
    "    \n",
    "    def subsetsRecur(self, current, sset):\n",
    "        if sset:\n",
    "            return self.subsetsRecur(current, sset[1:]) + self.subsetsRecur(current + [sset[0]], sset[1:])\n",
    "        return [current]\n",
    "\n",
    "print(Subsets().sub_sets([4,5,6]))\n"
   ]
  },
  {
   "cell_type": "markdown",
   "metadata": {},
   "source": [
    "# Question 3:"
   ]
  },
  {
   "cell_type": "code",
   "execution_count": 32,
   "metadata": {},
   "outputs": [
    {
     "name": "stdout",
     "output_type": "stream",
     "text": [
      "values are -10 2 8\n",
      "None\n"
     ]
    }
   ],
   "source": [
    "class Sum:\n",
    "    def sum_sets(self, ssset):\n",
    "         for i in range(0 , (len(ssset)-2)):\n",
    "            for j in range(1 , (len(ssset) - 1)):\n",
    "                for k in range(2 , len(ssset)):\n",
    "                     if ssset[i] + ssset[j] + ssset[k] == 0:\n",
    "                        print(\"values are\", ssset[i] , ssset[j] , ssset[k])\n",
    "                        return\n",
    "            \n",
    "print(Sum().sum_sets([-25, -10, -7, -3, 2, 4, 8, 10]))"
   ]
  },
  {
   "cell_type": "code",
   "execution_count": null,
   "metadata": {},
   "outputs": [],
   "source": []
  }
 ],
 "metadata": {
  "kernelspec": {
   "display_name": "Python 3",
   "language": "python",
   "name": "python3"
  },
  "language_info": {
   "codemirror_mode": {
    "name": "ipython",
    "version": 3
   },
   "file_extension": ".py",
   "mimetype": "text/x-python",
   "name": "python",
   "nbconvert_exporter": "python",
   "pygments_lexer": "ipython3",
   "version": "3.8.5"
  }
 },
 "nbformat": 4,
 "nbformat_minor": 4
}
